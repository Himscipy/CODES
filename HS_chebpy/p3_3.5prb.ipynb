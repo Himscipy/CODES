{
 "metadata": {
  "name": "",
  "signature": "sha256:31bb3fd3647f710a51ecdab3d16ac790d13c14f1717b4ec62b8cd8a23c9514a3"
 },
 "nbformat": 3,
 "nbformat_minor": 0,
 "worksheets": [
  {
   "cells": [
    {
     "cell_type": "heading",
     "level": 1,
     "metadata": {},
     "source": [
      "Chapter 3 Problem 3.5: "
     ]
    },
    {
     "cell_type": "markdown",
     "metadata": {},
     "source": [
      "Using the commands tic and toe, study the time taken by MATLAB (which\n",
      "is far from optimal in this regard) to compute anN-point FFT, as a function of N.\n",
      "If N = 2^k for k = 0, 1, ... , 15, for example, what is the dependence of the time on\n",
      "N? What if N = 500,501, ... , 519, 520? From a plot of the latter results, can you\n",
      "spot the prime numbers in this range? (Hints. The commands isprime and factor\n",
      "may be useful. To get good tic/toe data it may help to compute each FFT 10 or\n",
      "100 times in a loop.)\n",
      "\n",
      "\n",
      "\n",
      "We compute FFT of periodic functions on finite interval\n",
      "\n",
      "$$\n",
      "v(x) = \\exp(\\sin(x)), \\qquad x \\in [0,2\\pi]\n",
      "$$"
     ]
    },
    {
     "cell_type": "code",
     "collapsed": false,
     "input": [
      "from numpy import pi,linspace,zeros,arange,sin,cos,tan,exp,maximum,abs\n",
      "from numpy.fft import fft\n",
      "from numpy.linalg import norm\n",
      "from scipy.linalg import toeplitz\n",
      "import time\n",
      "from matplotlib.pyplot import figure,subplot,plot,axis,title,text"
     ],
     "language": "python",
     "metadata": {},
     "outputs": [],
     "prompt_number": 7
    },
    {
     "cell_type": "code",
     "collapsed": false,
     "input": [
      "# Set up grid and differentiation matrix:\n",
      "N = 2**(np.arange(1,16)); \n",
      "figure(figsize(10,10))\n",
      "for k in range(len(N)):\n",
      "    h = 2*pi/N[k]; x = h*linspace(1,N[k],N[k]);\n",
      "    figure(figsize(10,6))\n",
      "    # exp(sin(x)):\n",
      "    v = exp(sin(x)); \n",
      "    for  i in range(100):\n",
      "        t0 = time.time()\n",
      "        v_fft = fft(v)\n",
      "        t1 = time.time()\n",
      "        total_time = max((t1-t0),0.0)\n",
      "    figure(1)\n",
      "    plot(N[k],(total_time),\"or\")\n",
      "    hold(True)\n",
      "    xlabel(\"Number OF Points\")\n",
      "    ylabel(\"Time in Seconds\")\n",
      "    title(\"FFT Time Vs Number of Points\")"
     ],
     "language": "python",
     "metadata": {},
     "outputs": [
      {
       "metadata": {},
       "output_type": "display_data",
       "png": "[encoded data removed]",
       "text": [
        "<matplotlib.figure.Figure at 0x4f7f3d0>"
       ]
      },
      {
       "metadata": {},
       "output_type": "display_data",
       "text": [
        "<matplotlib.figure.Figure at 0x4f7fa50>"
       ]
      },
      {
       "metadata": {},
       "output_type": "display_data",
       "text": [
        "<matplotlib.figure.Figure at 0x35ccd90>"
       ]
      },
      {
       "metadata": {},
       "output_type": "display_data",
       "text": [
        "<matplotlib.figure.Figure at 0x35ccfd0>"
       ]
      },
      {
       "metadata": {},
       "output_type": "display_data",
       "text": [
        "<matplotlib.figure.Figure at 0x35cc550>"
       ]
      },
      {
       "metadata": {},
       "output_type": "display_data",
       "text": [
        "<matplotlib.figure.Figure at 0x4f95090>"
       ]
      },
      {
       "metadata": {},
       "output_type": "display_data",
       "text": [
        "<matplotlib.figure.Figure at 0x4f95dd0>"
       ]
      },
      {
       "metadata": {},
       "output_type": "display_data",
       "text": [
        "<matplotlib.figure.Figure at 0x5c3c910>"
       ]
      },
      {
       "metadata": {},
       "output_type": "display_data",
       "text": [
        "<matplotlib.figure.Figure at 0x5c39050>"
       ]
      },
      {
       "metadata": {},
       "output_type": "display_data",
       "text": [
        "<matplotlib.figure.Figure at 0x4f99710>"
       ]
      },
      {
       "metadata": {},
       "output_type": "display_data",
       "text": [
        "<matplotlib.figure.Figure at 0x4f99590>"
       ]
      },
      {
       "metadata": {},
       "output_type": "display_data",
       "text": [
        "<matplotlib.figure.Figure at 0x5c46a50>"
       ]
      },
      {
       "metadata": {},
       "output_type": "display_data",
       "text": [
        "<matplotlib.figure.Figure at 0x5c41b90>"
       ]
      },
      {
       "metadata": {},
       "output_type": "display_data",
       "text": [
        "<matplotlib.figure.Figure at 0x5c414d0>"
       ]
      },
      {
       "metadata": {},
       "output_type": "display_data",
       "text": [
        "<matplotlib.figure.Figure at 0x5c41810>"
       ]
      },
      {
       "metadata": {},
       "output_type": "display_data",
       "text": [
        "<matplotlib.figure.Figure at 0x5c3f790>"
       ]
      }
     ],
     "prompt_number": 25
    },
    {
     "cell_type": "code",
     "collapsed": false,
     "input": [],
     "language": "python",
     "metadata": {},
     "outputs": []
    }
   ],
   "metadata": {}
  }
 ]
}