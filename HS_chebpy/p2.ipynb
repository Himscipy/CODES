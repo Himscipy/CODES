{
 "metadata": {
  "name": "",
  "signature": "sha256:3f9e6fff3b7254bd523ff9deaa774ccb67d7058519b51ab9ef60b6ae0f3182e4"
 },
 "nbformat": 3,
 "nbformat_minor": 0,
 "worksheets": [
  {
   "cells": [
    {
     "cell_type": "heading",
     "level": 1,
     "metadata": {},
     "source": [
      "p2: Convergence of periodic spectral method"
     ]
    },
    {
     "cell_type": "markdown",
     "metadata": {},
     "source": [
      "We repeat program P1 using periodic spectral method to compute derivative of\n",
      "$$\n",
      "u(x) = \\exp(\\sin(x)), \\qquad x \\in [-\\pi,\\pi]\n",
      "$$"
     ]
    },
    {
     "cell_type": "code",
     "collapsed": false,
     "input": [
      "from scipy.linalg import toeplitz\n",
      "from numpy import pi,arange,exp,sin,cos,zeros,tan\n",
      "from numpy.linalg import norm\n",
      "from matplotlib.pyplot import figure,loglog,hold,grid,xlabel,ylabel"
     ],
     "language": "python",
     "metadata": {},
     "outputs": [],
     "prompt_number": 1
    },
    {
     "cell_type": "code",
     "collapsed": false,
     "input": [
      "figure(figsize(5,5))\n",
      "for N in range(2,100,2):\n",
      "    h = 2.0*pi/N\n",
      "    x = -pi + arange(1,N+1)*h\n",
      "    u = exp(sin(x))\n",
      "    uprime = cos(x)*u #Exact derivative\n",
      "    col = zeros(N)\n",
      "    col[1:] = 0.5*(-1.0)**arange(1,N)/tan(arange(1,N)*h/2.0)\n",
      "    row = zeros(N)\n",
      "    row[0] = col[0]\n",
      "    row[1:] = col[N-1:0:-1]\n",
      "    D = toeplitz(col,row)\n",
      "    error = norm(D.dot(u)-uprime,inf)\n",
      "    loglog(N,error,'or')\n",
      "    hold(True)\n",
      "    \n",
      "grid(True)\n",
      "xlabel('N')\n",
      "ylabel('error');"
     ],
     "language": "python",
     "metadata": {},
     "outputs": [
      {
       "metadata": {},
       "output_type": "display_data",
       "png": "[encoded data removed]",
       "text": [
        "<matplotlib.figure.Figure at 0x316b590>"
       ]
      }
     ],
     "prompt_number": 2
    }
   ],
   "metadata": {}
  }
 ]
}