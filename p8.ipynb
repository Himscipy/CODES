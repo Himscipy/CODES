{
 "metadata": {
  "name": "",
  "signature": "sha256:0cb7f8385d52db581b44c21024c9a439ef7f4d4249663f607bc6a7e429cba1b8"
 },
 "nbformat": 3,
 "nbformat_minor": 0,
 "worksheets": [
  {
   "cells": [
    {
     "cell_type": "heading",
     "level": 1,
     "metadata": {},
     "source": [
      "p8: Eigenvalues of harmonic oscillator $-u'' + x^2 u$ on $R$"
     ]
    },
    {
     "cell_type": "code",
     "collapsed": false,
     "input": [
      "from numpy import pi,arange,linspace,sin,zeros,diag,sort\n",
      "from scipy.linalg import toeplitz\n",
      "from numpy.linalg import eig"
     ],
     "language": "python",
     "metadata": {},
     "outputs": [],
     "prompt_number": 1
    },
    {
     "cell_type": "code",
     "collapsed": false,
     "input": [
      "L = 8.0\n",
      "for N in range(6,37,6):\n",
      "    h = 2.0*pi/N; x = h*linspace(1,N,N); x = L*(x-pi)/pi\n",
      "    col = zeros(N)\n",
      "    col[0] = -pi**2/(3.0*h**2) - 1.0/6.0\n",
      "    col[1:] = -0.5*(-1.0)**arange(1,N)/sin(0.5*h*arange(1,N))**2\n",
      "    D2 = (pi/L)**2 * toeplitz(col)\n",
      "    evals,evecs = eig(-D2 + diag(x**2))\n",
      "    eigenvalues = sort(evals)\n",
      "    print \"N = %d\" % N\n",
      "    for e in eigenvalues[0:4]:\n",
      "        print \"%24.15e\" % e"
     ],
     "language": "python",
     "metadata": {},
     "outputs": [
      {
       "output_type": "stream",
       "stream": "stdout",
       "text": [
        "N = 6\n",
        "   4.614729169954774e-01\n",
        "   7.494134621050524e+00\n",
        "   7.720916053006567e+00\n",
        "   2.883248377834012e+01\n",
        "N = 12\n",
        "   9.781372812986001e-01\n",
        "   3.171605320647181e+00\n",
        "   4.455935291166790e+00\n",
        "   8.924529058119933e+00\n",
        "N = 18\n",
        "   9.999700014993169e-01\n",
        "   3.000644066795826e+00\n",
        "   4.992595324407707e+00\n",
        "   7.039571897981498e+00\n",
        "N = 24\n",
        "   9.999999976290231e-01\n",
        "   3.000000098410857e+00\n",
        "   4.999997965273280e+00\n",
        "   7.000024998156542e+00\n",
        "N = 30\n",
        "   9.999999999999815e-01\n",
        "   3.000000000000735e+00\n",
        "   4.999999999975589e+00\n",
        "   7.000000000508612e+00\n",
        "N = 36\n",
        "   1.000000000000001e+00\n",
        "   2.999999999999991e+00\n",
        "   4.999999999999988e+00\n",
        "   7.000000000000001e+00\n"
       ]
      }
     ],
     "prompt_number": 2
    }
   ],
   "metadata": {}
  }
 ]
}